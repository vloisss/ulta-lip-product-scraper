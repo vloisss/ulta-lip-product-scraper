{
 "cells": [
  {
   "attachments": {},
   "cell_type": "markdown",
   "metadata": {},
   "source": [
    "Webscraping Ulta Lip Products using BeautifulSoup4, Requests, and Pandas"
   ]
  },
  {
   "cell_type": "code",
   "execution_count": null,
   "metadata": {},
   "outputs": [],
   "source": [
    "from bs4 import BeautifulSoup\n",
    "import requests\n",
    "import pandas as pd\n",
    "\n",
    "url = \"https://www.ulta.com/shop/makeup/lips\""
   ]
  },
  {
   "cell_type": "code",
   "execution_count": null,
   "metadata": {},
   "outputs": [],
   "source": [
    "product_links = []\n",
    "for num in range(1,9):\n",
    "    new_url = url + f\"?page={num}\"\n",
    "    page = requests.get(new_url)\n",
    "    soup = BeautifulSoup(page.content, \"lxml\")\n",
    "    product_list = soup.find_all(\"div\", class_=\"ProductCard\")\n",
    "    for item in product_list:\n",
    "        for link in item.find_all(\"a\", href=True):\n",
    "            product_links.append(link[\"href\"])\n",
    "            set(product_links)        \n",
    "    \n",
    "lipstick_list = []\n",
    "for link in product_links:\n",
    "    r= requests.get(link)\n",
    "    soup = BeautifulSoup(r.content, \"lxml\")\n",
    "    try:\n",
    "        name = soup.find(\"div\", class_=\"ProductInformation\").text\n",
    "    except:\n",
    "        name = \"No results\"\n",
    "    price = soup.find(\"div\", class_=\"ProductPricing\").text\n",
    "    try:\n",
    "        rating = soup.find(\"div\", class_=\"ReviewStars__Content\").text\n",
    "    except:\n",
    "        rating = \"No results\"\n",
    "    try:\n",
    "        reviews = soup.find(\"section\", class_=\"ProductReviews\").text\n",
    "    except:\n",
    "        reviews = \"No results\"\n",
    "    try:\n",
    "        conscious = soup.find(\"div\", class_=\"SummaryCard\").text\n",
    "    except:\n",
    "        conscious = \"No results\"\n",
    "    details = soup.find(\"div\", class_=\"ProductDetail__Content\").text\n",
    "    lipstick_info = {\n",
    "        \"name\":name,\n",
    "        \"price\":price,\n",
    "        \"rating\":rating,\n",
    "        \"details\":details,\n",
    "        \"reviews\":reviews,\n",
    "        \"conscious\":conscious\n",
    "    }\n",
    "    lipstick_list.append(lipstick_info)\n"
   ]
  },
  {
   "cell_type": "code",
   "execution_count": null,
   "metadata": {},
   "outputs": [],
   "source": [
    "df = pd.DataFrame(lipstick_list)\n",
    "df.to_excel('lipgloss.xlsx')\n",
    "df.to_csv(\"scraper.csv\")"
   ]
  }
 ],
 "metadata": {
  "kernelspec": {
   "display_name": "Python 3",
   "language": "python",
   "name": "python3"
  },
  "language_info": {
   "codemirror_mode": {
    "name": "ipython",
    "version": 3
   },
   "file_extension": ".py",
   "mimetype": "text/x-python",
   "name": "python",
   "nbconvert_exporter": "python",
   "pygments_lexer": "ipython3",
   "version": "3.11.2"
  },
  "orig_nbformat": 4,
  "vscode": {
   "interpreter": {
    "hash": "aee8b7b246df8f9039afb4144a1f6fd8d2ca17a180786b69acc140d282b71a49"
   }
  }
 },
 "nbformat": 4,
 "nbformat_minor": 2
}
